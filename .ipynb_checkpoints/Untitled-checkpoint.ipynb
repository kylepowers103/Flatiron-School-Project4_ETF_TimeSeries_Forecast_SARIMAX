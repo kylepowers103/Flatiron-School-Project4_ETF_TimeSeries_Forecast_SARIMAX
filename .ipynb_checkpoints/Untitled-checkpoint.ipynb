{
 "cells": [
  {
   "cell_type": "code",
   "execution_count": 4,
   "metadata": {},
   "outputs": [
    {
     "name": "stdout",
     "output_type": "stream",
     "text": [
      "Collecting quandl\n",
      "  Using cached https://files.pythonhosted.org/packages/03/ad/d6c0e4a919a9b17300b32cd987cf11a3b13660852930b32d9f330120e48b/Quandl-3.4.5-py2.py3-none-any.whl\n",
      "Requirement already satisfied: requests>=2.7.0 in /home/ec2-user/anaconda3/envs/python3/lib/python3.6/site-packages (from quandl) (2.20.1)\n",
      "Requirement already satisfied: numpy>=1.8 in /home/ec2-user/anaconda3/envs/python3/lib/python3.6/site-packages (from quandl) (1.14.5)\n",
      "Requirement already satisfied: more-itertools in /home/ec2-user/anaconda3/envs/python3/lib/python3.6/site-packages (from quandl) (4.1.0)\n",
      "Requirement already satisfied: pandas>=0.14 in /home/ec2-user/anaconda3/envs/python3/lib/python3.6/site-packages (from quandl) (0.22.0)\n",
      "Collecting inflection>=0.3.1 (from quandl)\n",
      "Requirement already satisfied: python-dateutil in /home/ec2-user/anaconda3/envs/python3/lib/python3.6/site-packages (from quandl) (2.7.3)\n",
      "Requirement already satisfied: six in /home/ec2-user/anaconda3/envs/python3/lib/python3.6/site-packages (from quandl) (1.11.0)\n",
      "Requirement already satisfied: chardet<3.1.0,>=3.0.2 in /home/ec2-user/anaconda3/envs/python3/lib/python3.6/site-packages (from requests>=2.7.0->quandl) (3.0.4)\n",
      "Requirement already satisfied: idna<2.8,>=2.5 in /home/ec2-user/anaconda3/envs/python3/lib/python3.6/site-packages (from requests>=2.7.0->quandl) (2.6)\n",
      "Requirement already satisfied: urllib3<1.25,>=1.21.1 in /home/ec2-user/anaconda3/envs/python3/lib/python3.6/site-packages (from requests>=2.7.0->quandl) (1.22)\n",
      "Requirement already satisfied: certifi>=2017.4.17 in /home/ec2-user/anaconda3/envs/python3/lib/python3.6/site-packages (from requests>=2.7.0->quandl) (2018.8.24)\n",
      "Requirement already satisfied: pytz>=2011k in /home/ec2-user/anaconda3/envs/python3/lib/python3.6/site-packages (from pandas>=0.14->quandl) (2018.4)\n",
      "Installing collected packages: inflection, quandl\n",
      "Successfully installed inflection-0.3.1 quandl-3.4.5\n",
      "\u001b[33mYou are using pip version 10.0.1, however version 18.1 is available.\n",
      "You should consider upgrading via the 'pip install --upgrade pip' command.\u001b[0m\n"
     ]
    }
   ],
   "source": [
    "!pip install quandl"
   ]
  },
  {
   "cell_type": "code",
   "execution_count": 6,
   "metadata": {},
   "outputs": [
    {
     "name": "stdout",
     "output_type": "stream",
     "text": [
      "Collecting pandas_datareader\n",
      "\u001b[?25l  Downloading https://files.pythonhosted.org/packages/cc/5c/ea5b6dcfd0f55c5fb1e37fb45335ec01cceca199b8a79339137f5ed269e0/pandas_datareader-0.7.0-py2.py3-none-any.whl (111kB)\n",
      "\u001b[K    100% |████████████████████████████████| 112kB 37.6MB/s ta 0:00:01\n",
      "\u001b[?25hRequirement already satisfied: wrapt in /home/ec2-user/anaconda3/envs/python3/lib/python3.6/site-packages (from pandas_datareader) (1.10.11)\n",
      "Requirement already satisfied: lxml in /home/ec2-user/anaconda3/envs/python3/lib/python3.6/site-packages (from pandas_datareader) (4.2.1)\n",
      "Requirement already satisfied: pandas>=0.19.2 in /home/ec2-user/anaconda3/envs/python3/lib/python3.6/site-packages (from pandas_datareader) (0.22.0)\n",
      "Requirement already satisfied: requests>=2.3.0 in /home/ec2-user/anaconda3/envs/python3/lib/python3.6/site-packages (from pandas_datareader) (2.20.1)\n",
      "Requirement already satisfied: numpy>=1.9.0 in /home/ec2-user/anaconda3/envs/python3/lib/python3.6/site-packages (from pandas>=0.19.2->pandas_datareader) (1.14.5)\n",
      "Requirement already satisfied: pytz>=2011k in /home/ec2-user/anaconda3/envs/python3/lib/python3.6/site-packages (from pandas>=0.19.2->pandas_datareader) (2018.4)\n",
      "Requirement already satisfied: python-dateutil>=2 in /home/ec2-user/anaconda3/envs/python3/lib/python3.6/site-packages (from pandas>=0.19.2->pandas_datareader) (2.7.3)\n",
      "Requirement already satisfied: urllib3<1.25,>=1.21.1 in /home/ec2-user/anaconda3/envs/python3/lib/python3.6/site-packages (from requests>=2.3.0->pandas_datareader) (1.22)\n",
      "Requirement already satisfied: idna<2.8,>=2.5 in /home/ec2-user/anaconda3/envs/python3/lib/python3.6/site-packages (from requests>=2.3.0->pandas_datareader) (2.6)\n",
      "Requirement already satisfied: chardet<3.1.0,>=3.0.2 in /home/ec2-user/anaconda3/envs/python3/lib/python3.6/site-packages (from requests>=2.3.0->pandas_datareader) (3.0.4)\n",
      "Requirement already satisfied: certifi>=2017.4.17 in /home/ec2-user/anaconda3/envs/python3/lib/python3.6/site-packages (from requests>=2.3.0->pandas_datareader) (2018.8.24)\n",
      "Requirement already satisfied: six>=1.5 in /home/ec2-user/anaconda3/envs/python3/lib/python3.6/site-packages (from python-dateutil>=2->pandas>=0.19.2->pandas_datareader) (1.11.0)\n",
      "Installing collected packages: pandas-datareader\n",
      "Successfully installed pandas-datareader-0.7.0\n",
      "\u001b[33mYou are using pip version 10.0.1, however version 18.1 is available.\n",
      "You should consider upgrading via the 'pip install --upgrade pip' command.\u001b[0m\n"
     ]
    }
   ],
   "source": [
    "!pip install pandas_datareader"
   ]
  },
  {
   "cell_type": "code",
   "execution_count": 30,
   "metadata": {},
   "outputs": [
    {
     "ename": "ModuleNotFoundError",
     "evalue": "No module named 'alpha_vantage'",
     "output_type": "error",
     "traceback": [
      "\u001b[0;31m---------------------------------------------------------------------------\u001b[0m",
      "\u001b[0;31mModuleNotFoundError\u001b[0m                       Traceback (most recent call last)",
      "\u001b[0;32m<ipython-input-30-291f62fd8b75>\u001b[0m in \u001b[0;36m<module>\u001b[0;34m()\u001b[0m\n\u001b[0;32m----> 1\u001b[0;31m \u001b[0;32mfrom\u001b[0m \u001b[0malpha_vantage\u001b[0m\u001b[0;34m.\u001b[0m\u001b[0mtimeseries\u001b[0m \u001b[0;32mimport\u001b[0m \u001b[0mTimeSeries\u001b[0m\u001b[0;34m\u001b[0m\u001b[0m\n\u001b[0m\u001b[1;32m      2\u001b[0m \u001b[0;32mfrom\u001b[0m \u001b[0malpha_vantage\u001b[0m\u001b[0;34m.\u001b[0m\u001b[0mtechindicators\u001b[0m \u001b[0;32mimport\u001b[0m \u001b[0mTechIndicators\u001b[0m\u001b[0;34m\u001b[0m\u001b[0m\n\u001b[1;32m      3\u001b[0m \u001b[0;32mfrom\u001b[0m \u001b[0malpha_vantage\u001b[0m\u001b[0;34m.\u001b[0m\u001b[0msectorperformance\u001b[0m \u001b[0;32mimport\u001b[0m \u001b[0mSectorPerformances\u001b[0m\u001b[0;34m\u001b[0m\u001b[0m\n\u001b[1;32m      4\u001b[0m \u001b[0;32mfrom\u001b[0m \u001b[0malpha_vantage\u001b[0m\u001b[0;34m.\u001b[0m\u001b[0mcryptocurrencies\u001b[0m \u001b[0;32mimport\u001b[0m \u001b[0mCryptoCurrencies\u001b[0m\u001b[0;34m\u001b[0m\u001b[0m\n\u001b[1;32m      5\u001b[0m \u001b[0;32mimport\u001b[0m \u001b[0mmatplotlib\u001b[0m\u001b[0;34m\u001b[0m\u001b[0m\n",
      "\u001b[0;31mModuleNotFoundError\u001b[0m: No module named 'alpha_vantage'"
     ]
    }
   ],
   "source": [
    "from alpha_vantage.timeseries import TimeSeries\n",
    "from alpha_vantage.techindicators import TechIndicators\n",
    "from alpha_vantage.sectorperformance import SectorPerformances\n",
    "from alpha_vantage.cryptocurrencies import CryptoCurrencies\n",
    "import matplotlib\n",
    "import matplotlib.pyplot as plt\n",
    "\n",
    "#Class for Examples of Plotting Technical Indicators from Alpha Vantage\n",
    "API_KEY = '9CRTS3F0KI6FJU95'\n",
    "#Size of charts\n",
    "matplotlib.rcParams['figure.figsize'] = (15, 10)\n",
    "\n",
    "#Plotting Bollinger Bands MSFT\n",
    "ti = TechIndicators(key=API_KEY, output_format='pandas')\n",
    "data, meta_data = ti.get_bbands(symbol='MSFT', interval='1min',)\n",
    "\n",
    "\n",
    "#Plotting RSI MSFT\n",
    "ti = TechIndicators(key=API_KEY, output_format='pandas')\n",
    "data, meta_data = ti.get_rsi(symbol='MSFT', interval='1min',)\n",
    "\n",
    "\n",
    "#Plotting OBV MSFT\n",
    "ti = TechIndicators(key=API_KEY, output_format='pandas')\n",
    "data, meta_data = ti.get_obv(symbol='MSFT', interval='1min',)\n",
    "\n",
    "\n",
    "#Plotting Average Directional Movement Index MSFT\n",
    "ti = TechIndicators(key=API_KEY, output_format='pandas')\n",
    "data, meta_data = ti.get_adx(symbol='MSFT', interval='1min',)\n",
    "\n",
    "\n",
    "#Plotting Stochoastic Oscillator MSFT\n",
    "ti = TechIndicators(key=API_KEY, output_format='pandas')\n",
    "data, meta_data = ti.get_stoch(symbol='MSFT', interval='1min',)\n",
    "\n",
    "\n",
    "#Plotting Simple Moving Average MSFT\n",
    "ti = TechIndicators(key=API_KEY, output_format='pandas')\n",
    "data, meta_data = ti.get_sma(symbol='MSFT', interval='1min',)\n"
   ]
  },
  {
   "cell_type": "code",
   "execution_count": null,
   "metadata": {},
   "outputs": [],
   "source": [
    "# from alpha_vantage.timeseries import TimeSeries\n",
    "# from alpha_vantage.techindicators import TechIndicators\n",
    "# from alpha_vantage.sectorperformance import SectorPerformances\n",
    "# from alpha_vantage.cryptocurrencies import CryptoCurrencies\n",
    "# import matplotlib\n",
    "# import matplotlib.pyplot as plt\n",
    "\n",
    "# #Class for Examples of Plotting Technical Indicators from Alpha Vantage\n",
    "\n",
    "# API_KEY = '9CRTS3F0KI6FJU95'\n",
    "# #Size of charts\n",
    "# matplotlib.rcParams['figure.figsize'] = (15, 10)\n",
    "\n",
    "# #Plotting Bollinger Bands MSFT\n",
    "# ti = TechIndicators(key=API_KEY, output_format='pandas')\n",
    "# data, meta_data = ti.get_bbands(symbol='MSFT', interval='1min',)\n",
    "# data.plot()\n",
    "# plt.title('Bollinger Bands for  $MSFT: 1 min)')\n",
    "# plt.show()\n",
    "\n",
    "# #Plotting RSI MSFT\n",
    "# ti = TechIndicators(key=API_KEY, output_format='pandas')\n",
    "# data, meta_data = ti.get_rsi(symbol='MSFT', interval='1min',)\n",
    "# data.plot()\n",
    "# plt.title('Relative Strength Index (RSI) for  $MSFT: 1 min)')\n",
    "# plt.show()\n",
    "\n",
    "# #Plotting OBV MSFT\n",
    "# ti = TechIndicators(key=API_KEY, output_format='pandas')\n",
    "# data, meta_data = ti.get_obv(symbol='MSFT', interval='1min',)\n",
    "# data.plot()\n",
    "# plt.title('Relative Strength Index (OBV) for  $MSFT: 1 min)')\n",
    "# plt.show()\n",
    "\n",
    "# #Plotting Average Directional Movement Index MSFT\n",
    "# ti = TechIndicators(key='YOUR_KEY', output_format='pandas')\n",
    "# data, meta_data = ti.get_adx(symbol='MSFT', interval='1min',)\n",
    "# data.plot()\n",
    "# plt.title('Average Directional Movement Index (ADX) for  $MSFT: 1 min)')\n",
    "# plt.show()\n",
    "\n",
    "# #Plotting Stochoastic Oscillator MSFT\n",
    "# ti = TechIndicators(key='YOUR_KEY', output_format='pandas')\n",
    "# data, meta_data = ti.get_stoch(symbol='MSFT', interval='1min',)\n",
    "# data.plot()\n",
    "# plt.title('Stochoastic Oscillator (STOCH) for  $MSFT: 1 min)')\n",
    "# plt.show()\n",
    "\n",
    "# #Plotting Simple Moving Average MSFT\n",
    "# ti = TechIndicators(key='YOUR_KEY', output_format='pandas')\n",
    "# data, meta_data = ti.get_sma(symbol='MSFT', interval='1min',)\n",
    "# data.plot()\n",
    "# plt.title('Simple Moving Average (SMA) for  $MSFT: 1 min)')\n",
    "# plt.show()"
   ]
  },
  {
   "cell_type": "code",
   "execution_count": null,
   "metadata": {},
   "outputs": [],
   "source": []
  },
  {
   "cell_type": "code",
   "execution_count": null,
   "metadata": {},
   "outputs": [],
   "source": []
  },
  {
   "cell_type": "code",
   "execution_count": null,
   "metadata": {},
   "outputs": [],
   "source": []
  },
  {
   "cell_type": "code",
   "execution_count": 25,
   "metadata": {},
   "outputs": [
    {
     "name": "stdout",
     "output_type": "stream",
     "text": [
      "Processing: Symbol... Sorry, but not this one!\n"
     ]
    },
    {
     "ename": "AttributeError",
     "evalue": "'NoneType' object has no attribute 'columns'",
     "output_type": "error",
     "traceback": [
      "\u001b[0;31m---------------------------------------------------------------------------\u001b[0m",
      "\u001b[0;31mAttributeError\u001b[0m                            Traceback (most recent call last)",
      "\u001b[0;32m<ipython-input-25-2b0b6d73a222>\u001b[0m in \u001b[0;36m<module>\u001b[0;34m()\u001b[0m\n\u001b[1;32m    134\u001b[0m         \u001b[0margs\u001b[0m\u001b[0;34m.\u001b[0m\u001b[0mend\u001b[0m \u001b[0;34m=\u001b[0m \u001b[0mdt\u001b[0m\u001b[0;34m.\u001b[0m\u001b[0mdatetime\u001b[0m\u001b[0;34m.\u001b[0m\u001b[0mstrptime\u001b[0m\u001b[0;34m(\u001b[0m\u001b[0margs\u001b[0m\u001b[0;34m.\u001b[0m\u001b[0mend\u001b[0m\u001b[0;34m,\u001b[0m \u001b[0;34m\"%Y-%m-%d\"\u001b[0m\u001b[0;34m)\u001b[0m\u001b[0;34m\u001b[0m\u001b[0m\n\u001b[1;32m    135\u001b[0m     \u001b[0margs\u001b[0m\u001b[0;34m.\u001b[0m\u001b[0mstart\u001b[0m \u001b[0;34m=\u001b[0m \u001b[0mdt\u001b[0m\u001b[0;34m.\u001b[0m\u001b[0mdatetime\u001b[0m\u001b[0;34m.\u001b[0m\u001b[0mstrptime\u001b[0m\u001b[0;34m(\u001b[0m\u001b[0margs\u001b[0m\u001b[0;34m.\u001b[0m\u001b[0mstart\u001b[0m\u001b[0;34m,\u001b[0m \u001b[0;34m\"%Y-%m-%d\"\u001b[0m\u001b[0;34m)\u001b[0m\u001b[0;34m\u001b[0m\u001b[0m\n\u001b[0;32m--> 136\u001b[0;31m \u001b[0msp500\u001b[0m \u001b[0;34m=\u001b[0m \u001b[0mget_sp500_data\u001b[0m\u001b[0;34m(\u001b[0m\u001b[0mstart\u001b[0m\u001b[0;34m=\u001b[0m\u001b[0margs\u001b[0m\u001b[0;34m.\u001b[0m\u001b[0mstart\u001b[0m\u001b[0;34m,\u001b[0m\u001b[0mend\u001b[0m\u001b[0;34m=\u001b[0m\u001b[0margs\u001b[0m\u001b[0;34m.\u001b[0m\u001b[0mend\u001b[0m\u001b[0;34m,\u001b[0m \u001b[0muse_quandl\u001b[0m\u001b[0;34m=\u001b[0m\u001b[0margs\u001b[0m\u001b[0;34m.\u001b[0m\u001b[0muse_quandl\u001b[0m\u001b[0;34m,\u001b[0m \u001b[0madjust\u001b[0m\u001b[0;34m=\u001b[0m\u001b[0margs\u001b[0m\u001b[0;34m.\u001b[0m\u001b[0madjust\u001b[0m\u001b[0;34m,\u001b[0m \u001b[0minner\u001b[0m\u001b[0;34m=\u001b[0m\u001b[0margs\u001b[0m\u001b[0;34m.\u001b[0m\u001b[0minner\u001b[0m\u001b[0;34m,\u001b[0m\u001b[0msleeptime\u001b[0m\u001b[0;34m=\u001b[0m\u001b[0margs\u001b[0m\u001b[0;34m.\u001b[0m\u001b[0msleeptime\u001b[0m\u001b[0;34m,\u001b[0m \u001b[0mverbose\u001b[0m\u001b[0;34m=\u001b[0m\u001b[0margs\u001b[0m\u001b[0;34m.\u001b[0m\u001b[0mverbose\u001b[0m\u001b[0;34m)\u001b[0m\u001b[0;34m\u001b[0m\u001b[0m\n\u001b[0m\u001b[1;32m    137\u001b[0m \u001b[0;31m# sp500.to_csv(args.csv_name)\u001b[0m\u001b[0;34m\u001b[0m\u001b[0;34m\u001b[0m\u001b[0m\n",
      "\u001b[0;32m<ipython-input-25-2b0b6d73a222>\u001b[0m in \u001b[0;36mget_sp500_data\u001b[0;34m(start, end, use_quandl, adjust, inner, sleeptime, verbose)\u001b[0m\n\u001b[1;32m     64\u001b[0m                 \u001b[0mprint\u001b[0m\u001b[0;34m(\u001b[0m\u001b[0;34m\" Sorry, but not this one!\"\u001b[0m\u001b[0;34m)\u001b[0m\u001b[0;34m\u001b[0m\u001b[0m\n\u001b[1;32m     65\u001b[0m \u001b[0;34m\u001b[0m\u001b[0m\n\u001b[0;32m---> 66\u001b[0;31m     \u001b[0mbadsymbols\u001b[0m \u001b[0;34m=\u001b[0m \u001b[0mlist\u001b[0m\u001b[0;34m(\u001b[0m\u001b[0mset\u001b[0m\u001b[0;34m(\u001b[0m\u001b[0ms\u001b[0m\u001b[0;34m)\u001b[0m \u001b[0;34m-\u001b[0m \u001b[0mset\u001b[0m\u001b[0;34m(\u001b[0m\u001b[0msp500\u001b[0m\u001b[0;34m.\u001b[0m\u001b[0mcolumns\u001b[0m\u001b[0;34m)\u001b[0m\u001b[0;34m)\u001b[0m\u001b[0;34m\u001b[0m\u001b[0m\n\u001b[0m\u001b[1;32m     67\u001b[0m     \u001b[0;32mif\u001b[0m \u001b[0mverbose\u001b[0m \u001b[0;32mand\u001b[0m \u001b[0mlen\u001b[0m\u001b[0;34m(\u001b[0m\u001b[0mbadsymbols\u001b[0m\u001b[0;34m)\u001b[0m \u001b[0;34m>\u001b[0m \u001b[0;36m0\u001b[0m\u001b[0;34m:\u001b[0m\u001b[0;34m\u001b[0m\u001b[0m\n\u001b[1;32m     68\u001b[0m         \u001b[0mprint\u001b[0m\u001b[0;34m(\u001b[0m\u001b[0;34m\"There were\"\u001b[0m\u001b[0;34m,\u001b[0m \u001b[0mlen\u001b[0m\u001b[0;34m(\u001b[0m\u001b[0mbadsymbols\u001b[0m\u001b[0;34m)\u001b[0m\u001b[0;34m,\u001b[0m \u001b[0;34m\"symbols for which data could not be obtained.\"\u001b[0m\u001b[0;34m)\u001b[0m\u001b[0;34m\u001b[0m\u001b[0m\n",
      "\u001b[0;31mAttributeError\u001b[0m: 'NoneType' object has no attribute 'columns'"
     ]
    }
   ],
   "source": [
    "import pandas as pd\n",
    "from pandas import DataFrame\n",
    "import argparse\n",
    "import quandl\n",
    "import pandas_datareader as web\n",
    "from time import sleep\n",
    "import datetime as dt\n",
    "import sys\n",
    "\n",
    "def get_sp500_data(start=dt.datetime.strptime(\"2005-01-01\", \"%Y-%m-%d\"),\n",
    "                   end=dt.datetime.now(), use_quandl=True, adjust=True, inner=True,\n",
    "                   sleeptime=2, verbose=True):\n",
    "    \"\"\"Fetches S&P 500 data\n",
    "\n",
    "    args:\n",
    "        start: datetime; The earliest possible date\n",
    "        end: datetime; The last possible date\n",
    "        use_quandl: bool; Whether to fetch data from Quandl (reverts to Google if False)\n",
    "        adjust: bool; Whether to use adjusted close (only works with Quandl)\n",
    "        inner: bool; Whether to use an inner join or outer join when combining series (inner has no missing data)\n",
    "        sleeptime: int; How long to sleep between fetches\n",
    "        verbose: bool; Whether to print a log while fetching data\n",
    "\n",
    "    return:\n",
    "        DataFrame: Contains stock price data\n",
    "    \"\"\"\n",
    "\n",
    "    join = \"outer\"\n",
    "    if inner:\n",
    "        join = \"inner\"\n",
    "\n",
    "    df2=pd.read_csv('S&p500companies.csv')\n",
    "    df2=df2[['Symbol']]\n",
    "    symbols = df2\n",
    "\n",
    "    sp500 = None\n",
    "    for s in symbols:\n",
    "        sleep(sleeptime)\n",
    "        if verbose:\n",
    "            print(\"Processing: \" + s + \"...\", end='')\n",
    "        try:\n",
    "            if use_quandl:\n",
    "                s_data = quandl.get(\"WIKI/\" + s, start_date=start, end_date=end)\n",
    "                if adjust:\n",
    "                    s_data = s_data.loc[:, \"Adj. Close\"]\n",
    "                else:\n",
    "                    s_data = s_data.loc[:, \"Close\"]\n",
    "            else:\n",
    "                s_data = web.DataReader(s, \"google\", start, end).loc[:, \"Close\"]\n",
    "            s_data.name = s\n",
    "            s_data.dropna()\n",
    "            if s_data.shape[0] > 1:\n",
    "                if sp500 is None:\n",
    "                    sp500 = DataFrame(s_data)\n",
    "                else:\n",
    "                    sp500 = sp500.join(s_data, how=join)\n",
    "                if verbose:\n",
    "                    print(\" Got it! From\", s_data.index[0], \"to\", s_data.index[-1])\n",
    "            else:\n",
    "                if verbose:\n",
    "                    print(\" Sorry, but not this one!\")\n",
    "        except Exception:\n",
    "            if verbose:\n",
    "                print(\" Sorry, but not this one!\")\n",
    "\n",
    "    badsymbols = list(set(s) - set(sp500.columns))\n",
    "    if verbose and len(badsymbols) > 0:\n",
    "        print(\"There were\", len(badsymbols), \"symbols for which data could not be obtained.\")\n",
    "        print(\"They are:\", \", \".join(badsymbols))\n",
    "\n",
    "    return sp500\n",
    "\n",
    "if __name__ == '__main__':\n",
    "    parser = argparse.ArgumentParser(description=\"Fetches S&P 500 data\")\n",
    "    parser.add_argument(\"-v\", \"--verbose\", action=\"store_true\", default=True, dest=\"verbose\",\n",
    "                        help=\"Print extra output [default]\")\n",
    "    parser.add_argument(\"--quietly\", action=\"store_false\",\n",
    "                        dest=\"verbose\", help=\"Don't print extra output\")\n",
    "    parser.add_argument(\"-f\", \"--file\", type=str, dest=\"csv_name\",\n",
    "                        default=\"sp-500.csv\",\n",
    "                        help=\"CSV file to save data to [default: sp-500.csv]\")\n",
    "    parser.add_argument(\"-s\", \"--sleep\", type=int, dest=\"sleeptime\",\n",
    "                        default=2,\n",
    "                        help=\"Time (seconds) between fetching symbols [default: 2] (don't flood websites with requests!)\")\n",
    "    parser.add_argument(\"--inner\", action=\"store_true\", default=False, dest=\"inner\",\n",
    "                        help=\"Inner join; only dates where all symbols have data will be included\")\n",
    "    parser.add_argument(\"--start\", type=str, dest=\"start\",\n",
    "                        default=\"1997-01-01\",\n",
    "                        help=\"Earliest date (YYYY-MM-DD) to include [default: 1997-01-01]\")\n",
    "    parser.add_argument(\"--end\", type=str, dest=\"end\",\n",
    "                        default=\"today\",\n",
    "                        help='Last date (YYYY-MM-DD or \"today\") to include [default: \"today\"]')\n",
    "    # parser.add_argument(\"-k\", \"--key\", type=\"character\", dest=\"api_key\",\n",
    "    #                     default=NULL,\n",
    "    #                     help=\"Quandl API key, needed if getting Quandl data\")\n",
    "    parser.add_argument(\"-q\", \"--quandl\", action=\"store_true\", default=False,\n",
    "                        dest=\"use_quandl\", help=\"Get data from Quandl\")\n",
    "    parser.add_argument(\"-a\", \"--adjust\", action=\"store_true\", default=False,\n",
    "                        dest=\"adjust\", help=\"Adjust prices (Quandl only)\")\n",
    "    parser.add_argument(\"--about\", action=\"store_true\", default=False,\n",
    "                        dest=\"about\",\n",
    "                        help=\"Print information about the script and its usage, then quit\")\n",
    "\n",
    "    args = parser.parse_args()\n",
    "\n",
    "    if args.about:\n",
    "        print(sys.argv[0], \"\\n(c) 2017 Curtis Miller\\n\",\n",
    "          \"Licensed under GNU GPL v. 3.0 available at \",\n",
    "          \"https://www.gnu.org/licenses/gpl-3.0.en.html \\n\",\n",
    "          \"E-mail: cgmil@msn.com\\n\\n\",\n",
    "          \"This script fetches closing price data for ticker symbols included\",\n",
    "          \"in the S&P 500 stock index. A list of symbols included in the index\",\n",
    "          \"is fetched from this webpage:\",\n",
    "          \"https://en.wikipedia.org/wiki/List_of_S%26P_500_companies  The list\",\n",
    "          \"is parsed and the symbols included in the list are fetched from\",\n",
    "          \"either Google Finance (the default) or Quandl.\",\n",
    "          \"If Quandl is the data source, adjusted data can be\",\n",
    "          \"fetched instead. The resulting data set is then saved to a CSV\",\n",
    "          \"file in the current working directory.\\n\\n\",\n",
    "          \"This package requires the following Python packages be installed in order\",\n",
    "          \"to work (all of which are available through pip):\\n\\n\",\n",
    "          \"* pandas\\n\",\n",
    "          \"* pandas-datareader\\n\",\n",
    "          \"* quandl\\n\\n\",\n",
    "          \"This script was written by Curtis Miller and was made available on \",\n",
    "          \"his website: https://ntguardian.wordpress.com\\n\\n\",\n",
    "          \"You can read more about this script in the following article: \",\n",
    "          \"https://ntguardian.wordpress.com/blog\\n\\n\")\n",
    "        quit()\n",
    "\n",
    "    if args.end == \"today\":\n",
    "        args.end = dt.datetime.now()\n",
    "    else:\n",
    "        args.end = dt.datetime.strptime(args.end, \"%Y-%m-%d\")\n",
    "    args.start = dt.datetime.strptime(args.start, \"%Y-%m-%d\")\n",
    "sp500 = get_sp500_data(start=args.start,end=args.end, use_quandl=args.use_quandl, adjust=args.adjust, inner=args.inner,sleeptime=args.sleeptime, verbose=args.verbose)\n",
    "# sp500.to_csv(args.csv_name)"
   ]
  },
  {
   "cell_type": "code",
   "execution_count": null,
   "metadata": {},
   "outputs": [],
   "source": [
    "# sp500.to_csv(args.csv_name)"
   ]
  },
  {
   "cell_type": "code",
   "execution_count": null,
   "metadata": {},
   "outputs": [],
   "source": [
    "sp500 = get_sp500_data(start=args.start,end=args.end, use_quandl=args.use_quandl, adjust=args.adjust, inner=args.inner,sleeptime=args.sleeptime, verbose=args.verbose)\n",
    "sp500.to_csv(args.csv_name)"
   ]
  },
  {
   "cell_type": "code",
   "execution_count": 15,
   "metadata": {},
   "outputs": [],
   "source": [
    "import pandas as pd \n",
    "df=pd.read_csv('S&p500companies.csv')"
   ]
  },
  {
   "cell_type": "code",
   "execution_count": 20,
   "metadata": {},
   "outputs": [
    {
     "ename": "NameError",
     "evalue": "name 'df2' is not defined",
     "output_type": "error",
     "traceback": [
      "\u001b[0;31m---------------------------------------------------------------------------\u001b[0m",
      "\u001b[0;31mNameError\u001b[0m                                 Traceback (most recent call last)",
      "\u001b[0;32m<ipython-input-20-2068723f1203>\u001b[0m in \u001b[0;36m<module>\u001b[0;34m()\u001b[0m\n\u001b[0;32m----> 1\u001b[0;31m \u001b[0mdf2\u001b[0m\u001b[0;34m\u001b[0m\u001b[0m\n\u001b[0m",
      "\u001b[0;31mNameError\u001b[0m: name 'df2' is not defined"
     ]
    }
   ],
   "source": [
    "df2"
   ]
  },
  {
   "cell_type": "code",
   "execution_count": 28,
   "metadata": {},
   "outputs": [],
   "source": [
    "# "
   ]
  },
  {
   "cell_type": "code",
   "execution_count": null,
   "metadata": {},
   "outputs": [],
   "source": [
    "s"
   ]
  }
 ],
 "metadata": {
  "kernelspec": {
   "display_name": "conda_python3",
   "language": "python",
   "name": "conda_python3"
  },
  "language_info": {
   "codemirror_mode": {
    "name": "ipython",
    "version": 3
   },
   "file_extension": ".py",
   "mimetype": "text/x-python",
   "name": "python",
   "nbconvert_exporter": "python",
   "pygments_lexer": "ipython3",
   "version": "3.6.5"
  }
 },
 "nbformat": 4,
 "nbformat_minor": 2
}
